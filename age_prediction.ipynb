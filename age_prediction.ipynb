{
 "cells": [
  {
   "cell_type": "code",
   "execution_count": null,
   "metadata": {
    "collapsed": true
   },
   "outputs": [],
   "source": [
    "#imports\n",
    "import mne\n",
    "import glob\n",
    "import os\n",
    "import re\n",
    "import numpy as np\n",
    "from itertools import chain\n",
    "from matplotlib import pyplot as plt\n",
    "from mne.time_frequency import psd_multitaper\n",
    "from mne.decoding import LinearModel\n",
    "from mne.decoding import get_coef\n",
    "from sklearn.pipeline import make_pipeline\n",
    "from sklearn.preprocessing import StandardScaler\n",
    "from sklearn.model_selection import train_test_split\n",
    "from sklearn.linear_model import LogisticRegressionCV\n",
    "from sklearn.metrics import confusion_matrix\n",
    "from sklearn.metrics import accuracy_score\n",
    "from sklearn.metrics import roc_auc_score\n",
    "from sklearn.metrics import confusion_matrix\n",
    "import pandas as pd"
   ]
  },
  {
   "cell_type": "code",
   "execution_count": null,
   "outputs": [],
   "source": [
    "train = pd.read_excel('/Users/ilyamikheev/Downloads/ages.xlsx', header=1)"
   ],
   "metadata": {
    "collapsed": false,
    "pycharm": {
     "name": "#%%\n"
    }
   }
  },
  {
   "cell_type": "code",
   "execution_count": null,
   "outputs": [],
   "source": [
    "from lightgbm import LGBMClassifier\n",
    "X_train, X_test, y_train, y_test = train_test_split(train.drop(columns=['ID', 'AGE', 'COND', 'N1P2', 'OLD', 'P1_LAT', 'P2_LAT', 'N1_LAT', 'N2_LAT']), train['OLD'], test_size=0.2, random_state=42)\n",
    "lgb = LGBMClassifier(objective='multiclass')\n",
    "from sklearn import preprocessing\n",
    "le = preprocessing.LabelEncoder()\n",
    "le.fit(y_train)\n",
    "y_train = le.transform(y_train)\n",
    "lgb.fit(X_train, y_train)\n",
    "predictions = lgb.predict_proba(X_test.to_numpy())"
   ],
   "metadata": {
    "collapsed": false,
    "pycharm": {
     "name": "#%%\n"
    }
   }
  },
  {
   "cell_type": "code",
   "execution_count": null,
   "outputs": [],
   "source": [
    "import lightgbm\n",
    "lightgbm.plot_importance(lgb, max_num_features=50, figsize=(16,9))\n",
    "plt.savefig('imp_amp.png')"
   ],
   "metadata": {
    "collapsed": false,
    "pycharm": {
     "name": "#%%\n"
    }
   }
  },
  {
   "cell_type": "code",
   "execution_count": null,
   "outputs": [],
   "source": [
    "import pandas\n",
    "from scipy.stats import mstats\n",
    "\n",
    "Data = pandas.read_csv(\"/Users/ilyamikheev/Downloads/ages_td.csv\")"
   ],
   "metadata": {
    "collapsed": false,
    "pycharm": {
     "name": "#%%\n"
    }
   }
  },
  {
   "cell_type": "code",
   "execution_count": null,
   "outputs": [],
   "source": [
    "import numpy as np\n",
    "c_names = ['P1_AMP', 'N1_AMP', 'P2_AMP', 'N2_AMP', 'P1_LAT', 'P2_LAT', 'N1_LAT', 'N2_LAT']\n",
    "m_v = np.zeros([8,6])\n",
    "res = np.zeros([8,2])\n",
    "for i, name in enumerate(c_names):\n",
    "    Col_1 = Data[Data['OLD']=='A'][name]\n",
    "    Col_2 = Data[Data['OLD']=='B'][name]\n",
    "    Col_3 = Data[Data['OLD']=='C'][name]\n",
    "    m_v[i,0], m_v[i,1], m_v[i,2], m_v[i,3], m_v[i,4], m_v[i,5] = Col_1.median(), Col_2.median(), Col_3.median(), Col_1.std(), Col_2.std(), Col_3.std()\n",
    "    res[i,0], res[i,1] = mstats.kruskalwallis(Col_1.values, Col_2.values, Col_3.values)"
   ],
   "metadata": {
    "collapsed": false,
    "pycharm": {
     "name": "#%%\n"
    }
   }
  },
  {
   "cell_type": "code",
   "execution_count": null,
   "outputs": [],
   "source": [],
   "metadata": {
    "collapsed": false,
    "pycharm": {
     "name": "#%%\n"
    }
   }
  },
  {
   "cell_type": "code",
   "execution_count": null,
   "outputs": [],
   "source": [
    "# size 18"
   ],
   "metadata": {
    "collapsed": false,
    "pycharm": {
     "name": "#%%\n"
    }
   }
  },
  {
   "cell_type": "code",
   "execution_count": null,
   "outputs": [],
   "source": [
    "import os\n",
    "df_subj = pd.DataFrame(res, columns=['H','p_value'], index=c_names)\n",
    "writer = pd.ExcelWriter(os.path.join('/Users/ilyamikheev/Downloads', 'stat_amp_lat.xlsx'))\n",
    "df_subj.to_excel(writer)\n",
    "writer.save()"
   ],
   "metadata": {
    "collapsed": false,
    "pycharm": {
     "name": "#%%\n"
    }
   }
  },
  {
   "cell_type": "code",
   "execution_count": null,
   "outputs": [],
   "source": [
    "import os\n",
    "df_subj = pd.DataFrame(m_v, columns=['A_median','B_median','C_median','A_std','B_std','C_std'], index=c_names)\n",
    "writer = pd.ExcelWriter(os.path.join('/Users/ilyamikheev/Downloads', 'median_std_amp_lat.xlsx'))\n",
    "df_subj.to_excel(writer)\n",
    "writer.save()"
   ],
   "metadata": {
    "collapsed": false,
    "pycharm": {
     "name": "#%%\n"
    }
   }
  },
  {
   "cell_type": "code",
   "execution_count": null,
   "outputs": [],
   "source": [],
   "metadata": {
    "collapsed": false,
    "pycharm": {
     "name": "#%%\n"
    }
   }
  }
 ],
 "metadata": {
  "kernelspec": {
   "display_name": "Python 3",
   "language": "python",
   "name": "python3"
  },
  "language_info": {
   "codemirror_mode": {
    "name": "ipython",
    "version": 2
   },
   "file_extension": ".py",
   "mimetype": "text/x-python",
   "name": "python",
   "nbconvert_exporter": "python",
   "pygments_lexer": "ipython2",
   "version": "2.7.6"
  }
 },
 "nbformat": 4,
 "nbformat_minor": 0
}