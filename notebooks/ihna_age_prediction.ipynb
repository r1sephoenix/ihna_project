{
 "cells": [
  {
   "cell_type": "code",
   "execution_count": 158,
   "metadata": {
    "collapsed": true
   },
   "outputs": [],
   "source": [
    "#imports\n",
    "import os\n",
    "from sklearn.preprocessing import StandardScaler\n",
    "from sklearn.model_selection import train_test_split\n",
    "from sklearn.metrics import confusion_matrix\n",
    "from sklearn.metrics import confusion_matrix\n",
    "import pandas as pd"
   ]
  },
  {
   "cell_type": "code",
   "execution_count": 3,
   "outputs": [],
   "source": [
    "train = pd.read_excel('/Users/ilyamikheev/Downloads/ages.xlsx', header=1)"
   ],
   "metadata": {
    "collapsed": false,
    "pycharm": {
     "name": "#%%\n"
    }
   }
  },
  {
   "cell_type": "code",
   "execution_count": 152,
   "outputs": [],
   "source": [
    "Data = pd.read_excel('/Users/ilyamikheev/Downloads/ages.xlsx', header=1)"
   ],
   "metadata": {
    "collapsed": false,
    "pycharm": {
     "name": "#%%\n"
    }
   }
  },
  {
   "cell_type": "code",
   "execution_count": 215,
   "outputs": [
    {
     "data": {
      "text/plain": "     ID    AGE  COND    P1_AMP    N1_AMP    P2_AMP    N2_AMP  P1_LAT  P2_LAT  \\\n0     7   5.04    50  2.032863  6.294144  6.375147  0.685769    88.0   130.0   \n1     7   5.04    60 -0.178670  0.795800  0.054853 -1.543763    86.0   128.0   \n2     7   5.04    70  5.612161  5.584804 -0.137635 -3.187512    66.0   120.0   \n3     7   5.04    80  1.865363  0.998076 -1.061847 -4.500305    78.0   120.0   \n4     9   5.86    50 -0.316512  0.070554 -2.186760 -5.512636    88.0   120.0   \n..   ..    ...   ...       ...       ...       ...       ...     ...     ...   \n123  57  13.99    80  0.247360 -5.280674 -4.595989 -7.299122    34.0   156.0   \n124  68  16.94    50  0.869114 -1.164237  0.780845 -3.950002    74.0   146.0   \n125  68  16.94    60  0.823551 -1.307943  0.640693 -4.524477    72.0   140.0   \n126  68  16.94    70  0.181129 -2.033837  2.453336 -2.590944    46.0   144.0   \n127  68  16.94    80 -1.145671 -4.273683 -0.421692 -5.189058    60.0   166.0   \n\n     N1_LAT  N2_LAT      N1P2 OLD  \n0      90.0   240.0  0.081003   A  \n1     108.0   298.0  0.740947   A  \n2     138.0   274.0  5.722439   A  \n3     138.0   288.0  2.059923   A  \n4     138.0   296.0  2.257314   A  \n..      ...     ...       ...  ..  \n123   116.0   212.0  0.684685   C  \n124   106.0   254.0  1.945081   C  \n125    98.0   276.0  1.948636   C  \n126    96.0   298.0  4.487173   C  \n127    92.0   290.0  3.851991   C  \n\n[128 rows x 13 columns]",
      "text/html": "<div>\n<style scoped>\n    .dataframe tbody tr th:only-of-type {\n        vertical-align: middle;\n    }\n\n    .dataframe tbody tr th {\n        vertical-align: top;\n    }\n\n    .dataframe thead th {\n        text-align: right;\n    }\n</style>\n<table border=\"1\" class=\"dataframe\">\n  <thead>\n    <tr style=\"text-align: right;\">\n      <th></th>\n      <th>ID</th>\n      <th>AGE</th>\n      <th>COND</th>\n      <th>P1_AMP</th>\n      <th>N1_AMP</th>\n      <th>P2_AMP</th>\n      <th>N2_AMP</th>\n      <th>P1_LAT</th>\n      <th>P2_LAT</th>\n      <th>N1_LAT</th>\n      <th>N2_LAT</th>\n      <th>N1P2</th>\n      <th>OLD</th>\n    </tr>\n  </thead>\n  <tbody>\n    <tr>\n      <th>0</th>\n      <td>7</td>\n      <td>5.04</td>\n      <td>50</td>\n      <td>2.032863</td>\n      <td>6.294144</td>\n      <td>6.375147</td>\n      <td>0.685769</td>\n      <td>88.0</td>\n      <td>130.0</td>\n      <td>90.0</td>\n      <td>240.0</td>\n      <td>0.081003</td>\n      <td>A</td>\n    </tr>\n    <tr>\n      <th>1</th>\n      <td>7</td>\n      <td>5.04</td>\n      <td>60</td>\n      <td>-0.178670</td>\n      <td>0.795800</td>\n      <td>0.054853</td>\n      <td>-1.543763</td>\n      <td>86.0</td>\n      <td>128.0</td>\n      <td>108.0</td>\n      <td>298.0</td>\n      <td>0.740947</td>\n      <td>A</td>\n    </tr>\n    <tr>\n      <th>2</th>\n      <td>7</td>\n      <td>5.04</td>\n      <td>70</td>\n      <td>5.612161</td>\n      <td>5.584804</td>\n      <td>-0.137635</td>\n      <td>-3.187512</td>\n      <td>66.0</td>\n      <td>120.0</td>\n      <td>138.0</td>\n      <td>274.0</td>\n      <td>5.722439</td>\n      <td>A</td>\n    </tr>\n    <tr>\n      <th>3</th>\n      <td>7</td>\n      <td>5.04</td>\n      <td>80</td>\n      <td>1.865363</td>\n      <td>0.998076</td>\n      <td>-1.061847</td>\n      <td>-4.500305</td>\n      <td>78.0</td>\n      <td>120.0</td>\n      <td>138.0</td>\n      <td>288.0</td>\n      <td>2.059923</td>\n      <td>A</td>\n    </tr>\n    <tr>\n      <th>4</th>\n      <td>9</td>\n      <td>5.86</td>\n      <td>50</td>\n      <td>-0.316512</td>\n      <td>0.070554</td>\n      <td>-2.186760</td>\n      <td>-5.512636</td>\n      <td>88.0</td>\n      <td>120.0</td>\n      <td>138.0</td>\n      <td>296.0</td>\n      <td>2.257314</td>\n      <td>A</td>\n    </tr>\n    <tr>\n      <th>...</th>\n      <td>...</td>\n      <td>...</td>\n      <td>...</td>\n      <td>...</td>\n      <td>...</td>\n      <td>...</td>\n      <td>...</td>\n      <td>...</td>\n      <td>...</td>\n      <td>...</td>\n      <td>...</td>\n      <td>...</td>\n      <td>...</td>\n    </tr>\n    <tr>\n      <th>123</th>\n      <td>57</td>\n      <td>13.99</td>\n      <td>80</td>\n      <td>0.247360</td>\n      <td>-5.280674</td>\n      <td>-4.595989</td>\n      <td>-7.299122</td>\n      <td>34.0</td>\n      <td>156.0</td>\n      <td>116.0</td>\n      <td>212.0</td>\n      <td>0.684685</td>\n      <td>C</td>\n    </tr>\n    <tr>\n      <th>124</th>\n      <td>68</td>\n      <td>16.94</td>\n      <td>50</td>\n      <td>0.869114</td>\n      <td>-1.164237</td>\n      <td>0.780845</td>\n      <td>-3.950002</td>\n      <td>74.0</td>\n      <td>146.0</td>\n      <td>106.0</td>\n      <td>254.0</td>\n      <td>1.945081</td>\n      <td>C</td>\n    </tr>\n    <tr>\n      <th>125</th>\n      <td>68</td>\n      <td>16.94</td>\n      <td>60</td>\n      <td>0.823551</td>\n      <td>-1.307943</td>\n      <td>0.640693</td>\n      <td>-4.524477</td>\n      <td>72.0</td>\n      <td>140.0</td>\n      <td>98.0</td>\n      <td>276.0</td>\n      <td>1.948636</td>\n      <td>C</td>\n    </tr>\n    <tr>\n      <th>126</th>\n      <td>68</td>\n      <td>16.94</td>\n      <td>70</td>\n      <td>0.181129</td>\n      <td>-2.033837</td>\n      <td>2.453336</td>\n      <td>-2.590944</td>\n      <td>46.0</td>\n      <td>144.0</td>\n      <td>96.0</td>\n      <td>298.0</td>\n      <td>4.487173</td>\n      <td>C</td>\n    </tr>\n    <tr>\n      <th>127</th>\n      <td>68</td>\n      <td>16.94</td>\n      <td>80</td>\n      <td>-1.145671</td>\n      <td>-4.273683</td>\n      <td>-0.421692</td>\n      <td>-5.189058</td>\n      <td>60.0</td>\n      <td>166.0</td>\n      <td>92.0</td>\n      <td>290.0</td>\n      <td>3.851991</td>\n      <td>C</td>\n    </tr>\n  </tbody>\n</table>\n<p>128 rows × 13 columns</p>\n</div>"
     },
     "execution_count": 215,
     "metadata": {},
     "output_type": "execute_result"
    }
   ],
   "source": [
    "train"
   ],
   "metadata": {
    "collapsed": false,
    "pycharm": {
     "name": "#%%\n"
    }
   }
  },
  {
   "cell_type": "code",
   "execution_count": 163,
   "outputs": [
    {
     "name": "stdout",
     "output_type": "stream",
     "text": [
      "(26, 4)\n",
      "0.38425925925925924\n"
     ]
    }
   ],
   "source": [
    "\n",
    "from lightgbm import LGBMClassifier\n",
    "from sklearn.metrics import precision_score\n",
    "X_train, X_test, y_train, y_test = train_test_split(train.drop(columns=['ID', 'AGE', 'COND', 'N1P2', 'OLD', 'P1_AMP', 'N1_AMP', 'P2_AMP', 'N2_AMP']), train['OLD'], test_size=0.2, random_state=42)\n",
    "print(X_test.shape)\n",
    "lgb = LGBMClassifier(objective='multiclass')\n",
    "from sklearn import preprocessing\n",
    "le = preprocessing.LabelEncoder()\n",
    "sc = StandardScaler()\n",
    "X_train = sc.fit_transform(X_train)\n",
    "X_test = sc.transform(X_test)\n",
    "le.fit(y_train)\n",
    "y_train = le.transform(y_train)\n",
    "lgb.fit(X_train, y_train)\n",
    "y_test.to_list()\n",
    "tr = le.transform(y_test)\n",
    "predictions = lgb.predict_proba(X_test)\n",
    "predictions_t = lgb.predict(X_test)\n",
    "#print(accuracy_score(tr, predictionredictions_ts_t.reshape(-1,1)))\n",
    "print(precision_score(tr, predictions_t.reshape(-1,1), average='macro') )"
   ],
   "metadata": {
    "collapsed": false,
    "pycharm": {
     "name": "#%%\n"
    }
   }
  },
  {
   "cell_type": "code",
   "execution_count": null,
   "outputs": [],
   "source": "",
   "metadata": {
    "collapsed": false,
    "pycharm": {
     "name": "#%%\n"
    }
   }
  },
  {
   "cell_type": "code",
   "execution_count": 117,
   "outputs": [],
   "source": [
    "\n",
    "from matplotlib import pyplot as plt, cm\n",
    "from sklearn.linear_model import LogisticRegressionCV, LogisticRegression\n",
    "from sklearn.pipeline import make_pipeline\n",
    "from sklearn.preprocessing import StandardScaler, minmax_scale"
   ],
   "metadata": {
    "collapsed": false,
    "pycharm": {
     "name": "#%%\n"
    }
   }
  },
  {
   "cell_type": "code",
   "execution_count": 183,
   "outputs": [],
   "source": [
    "def predict_lm(data):\n",
    "    \"\"\"\n",
    "    function for logistic regression model\n",
    "    Parameters\n",
    "    ----------\n",
    "    data: list[np.ndarray]\n",
    "    eeg_param: list[dict, list]\n",
    "       [fr_bands, channels_names]\n",
    "\n",
    "    Returns\n",
    "    -------\n",
    "    :rtype: tuple\n",
    "    :return: ac, roc_auc, interp_tpr, coefs\n",
    "    \"\"\"\n",
    "    mean_fpr = np.linspace(0, 1, 100)\n",
    "    coefs = np.zeros((2, 4))\n",
    "    model = make_pipeline(StandardScaler(), LogisticRegressionCV(Cs=list(np.power(10.0, np.arange(-10, 10))), penalty='l2',\n",
    "                                                           scoring='accuracy', random_state=0, max_iter=10000,\n",
    "                                                           fit_intercept=True,multi_class='multinomial', solver='newton-cg',\n",
    "                                                           class_weight='balanced', tol=10))\n",
    "    model.fit(data[0], data[2])\n",
    "    y_predict, y_predict_pr = model.predict(data[1]), model.predict_proba(data[1])\n",
    "    ac = balanced_accuracy_score(data[3], y_predict)\n",
    "    cm = confusion_matrix(data[3], y_predict)\n",
    "    cm = cm.astype('float') / cm.sum(axis=1)[:, np.newaxis]\n",
    "    return ac, y_predict_pr, model, cm.diagonal()\n"
   ],
   "metadata": {
    "collapsed": false,
    "pycharm": {
     "name": "#%%\n"
    }
   }
  },
  {
   "cell_type": "code",
   "execution_count": 230,
   "outputs": [
    {
     "ename": "AttributeError",
     "evalue": "module 'matplotlib.cm' has no attribute 'diagonal'",
     "output_type": "error",
     "traceback": [
      "\u001B[0;31m---------------------------------------------------------------------------\u001B[0m",
      "\u001B[0;31mAttributeError\u001B[0m                            Traceback (most recent call last)",
      "Input \u001B[0;32mIn [230]\u001B[0m, in \u001B[0;36m<cell line: 1>\u001B[0;34m()\u001B[0m\n\u001B[0;32m----> 1\u001B[0m \u001B[43mcm\u001B[49m\u001B[38;5;241;43m.\u001B[39;49m\u001B[43mdiagonal\u001B[49m()\n",
      "File \u001B[0;32m~/.conda/envs/ihna_project/lib/python3.9/site-packages/matplotlib/_api/__init__.py:222\u001B[0m, in \u001B[0;36mcaching_module_getattr.<locals>.__getattr__\u001B[0;34m(name)\u001B[0m\n\u001B[1;32m    220\u001B[0m \u001B[38;5;28;01mif\u001B[39;00m name \u001B[38;5;129;01min\u001B[39;00m props:\n\u001B[1;32m    221\u001B[0m     \u001B[38;5;28;01mreturn\u001B[39;00m props[name]\u001B[38;5;241m.\u001B[39m\u001B[38;5;21m__get__\u001B[39m(instance)\n\u001B[0;32m--> 222\u001B[0m \u001B[38;5;28;01mraise\u001B[39;00m \u001B[38;5;167;01mAttributeError\u001B[39;00m(\n\u001B[1;32m    223\u001B[0m     \u001B[38;5;124mf\u001B[39m\u001B[38;5;124m\"\u001B[39m\u001B[38;5;124mmodule \u001B[39m\u001B[38;5;132;01m{\u001B[39;00m\u001B[38;5;28mcls\u001B[39m\u001B[38;5;241m.\u001B[39m\u001B[38;5;18m__module__\u001B[39m\u001B[38;5;132;01m!r}\u001B[39;00m\u001B[38;5;124m has no attribute \u001B[39m\u001B[38;5;132;01m{\u001B[39;00mname\u001B[38;5;132;01m!r}\u001B[39;00m\u001B[38;5;124m\"\u001B[39m)\n",
      "\u001B[0;31mAttributeError\u001B[0m: module 'matplotlib.cm' has no attribute 'diagonal'"
     ]
    }
   ],
   "source": [
    "cm.diagonal()"
   ],
   "metadata": {
    "collapsed": false,
    "pycharm": {
     "name": "#%%\n"
    }
   }
  },
  {
   "cell_type": "code",
   "execution_count": 142,
   "outputs": [],
   "source": [
    "model = make_pipeline(StandardScaler(),\n",
    "                          (LogisticRegression(multi_class='multinomial', solver='lbfgs')))\n",
    "#model.fit(data[0], data[2])"
   ],
   "metadata": {
    "collapsed": false,
    "pycharm": {
     "name": "#%%\n"
    }
   }
  },
  {
   "cell_type": "code",
   "execution_count": 184,
   "outputs": [],
   "source": [
    "\n",
    "X_train, X_test, y_train, y_test = train_test_split(train.drop(columns=['ID', 'AGE', 'COND', 'N1P2', 'OLD']), train['OLD'], test_size=0.2, random_state=42)\n",
    "from sklearn import preprocessing\n",
    "le = preprocessing.LabelEncoder()\n",
    "le.fit(y_train)\n",
    "y_train = le.transform(y_train)\n",
    "tr = le.transform(y_test)\n",
    "ac, y_predict_pr, model, ac_all = predict_lm([X_train, X_test, y_train, tr])"
   ],
   "metadata": {
    "collapsed": false,
    "pycharm": {
     "name": "#%%\n"
    }
   }
  },
  {
   "cell_type": "code",
   "execution_count": 231,
   "outputs": [
    {
     "data": {
      "text/plain": "array([0.71428571, 0.45454545, 0.75      ])"
     },
     "execution_count": 231,
     "metadata": {},
     "output_type": "execute_result"
    }
   ],
   "source": [
    "ac_all"
   ],
   "metadata": {
    "collapsed": false,
    "pycharm": {
     "name": "#%%\n"
    }
   }
  },
  {
   "cell_type": "code",
   "execution_count": 223,
   "outputs": [
    {
     "data": {
      "text/plain": "<Figure size 864x576 with 1 Axes>",
      "image/png": "[encoded data removed]"
     },
     "metadata": {
      "needs_background": "light"
     },
     "output_type": "display_data"
    }
   ],
   "source": [
    "importance = minmax_scale(model[1].coef_[0], feature_range=(-1, 1))\n",
    "# summarize feature importance\n",
    "s = [1,2,3,4,5,6,7,8]\n",
    "objects = ['P1_AMP', 'N1_AMP', 'P2_AMP', 'N2_AMP', 'P1_LAT', 'P2_LAT', 'N1_LAT', 'N2_LAT']\n",
    "fig, axes = plt.subplots(figsize=(12, 8))\n",
    "axes.bar([x for x in range(len(importance))], importance)\n",
    "axes.set_ylabel('Coefficients', fontsize=30)\n",
    "axes.tick_params(axis='both', labelsize=15)\n",
    "plt.xticks([x for x in range(len(importance))], objects)\n",
    "plt.show()\n"
   ],
   "metadata": {
    "collapsed": false,
    "pycharm": {
     "name": "#%%\n"
    }
   }
  },
  {
   "cell_type": "code",
   "execution_count": 225,
   "outputs": [],
   "source": [
    "fig.savefig(os.path.join('/Users/ilyamikheev/Downloads/coefs_all.png'), format='png', bbox_inches='tight', dpi=300)"
   ],
   "metadata": {
    "collapsed": false,
    "pycharm": {
     "name": "#%%\n"
    }
   }
  },
  {
   "cell_type": "code",
   "execution_count": 185,
   "outputs": [
    {
     "data": {
      "text/plain": "0.6396103896103896"
     },
     "execution_count": 185,
     "metadata": {},
     "output_type": "execute_result"
    }
   ],
   "source": [
    "ac"
   ],
   "metadata": {
    "collapsed": false,
    "pycharm": {
     "name": "#%%\n"
    }
   }
  },
  {
   "cell_type": "code",
   "execution_count": null,
   "outputs": [],
   "source": [
    "0.714286"
   ],
   "metadata": {
    "collapsed": false,
    "pycharm": {
     "name": "#%%\n"
    }
   }
  },
  {
   "cell_type": "code",
   "execution_count": 186,
   "outputs": [
    {
     "data": {
      "text/plain": "array([0.71428571, 0.45454545, 0.75      ])"
     },
     "execution_count": 186,
     "metadata": {},
     "output_type": "execute_result"
    }
   ],
   "source": [
    "ac_all"
   ],
   "metadata": {
    "collapsed": false,
    "pycharm": {
     "name": "#%%\n"
    }
   }
  },
  {
   "cell_type": "code",
   "execution_count": 228,
   "outputs": [
    {
     "data": {
      "text/plain": "<Figure size 864x576 with 1 Axes>",
      "image/png": "[encoded data removed]"
     },
     "metadata": {
      "needs_background": "light"
     },
     "output_type": "display_data"
    }
   ],
   "source": [
    "objects = ('All', '4.14-6.42', '7.08-11.98', '12.04-17.98')\n",
    "x = [1,3,4,5]\n",
    "performance = [ac, 0.714286, 0.454545, 0.750000]\n",
    "fig, axes = plt.subplots(figsize=(12, 8))\n",
    "axes.bar(x, performance, align='center', alpha=0.5, color=['red', 'blue', 'blue', 'blue'])\n",
    "plt.xticks(x, objects)\n",
    "axes.set_ylabel('Balanced accuracy', fontsize=30)\n",
    "axes.tick_params(axis='both', labelsize=20)\n",
    "plt.title(\"\")\n",
    "plt.show()"
   ],
   "metadata": {
    "collapsed": false,
    "pycharm": {
     "name": "#%%\n"
    }
   }
  },
  {
   "cell_type": "code",
   "execution_count": 229,
   "outputs": [],
   "source": [
    "fig.savefig(os.path.join('/Users/ilyamikheev/Downloads/ac_all.png'), format='png', bbox_inches='tight', dpi=300)"
   ],
   "metadata": {
    "collapsed": false,
    "pycharm": {
     "name": "#%%\n"
    }
   }
  },
  {
   "cell_type": "code",
   "execution_count": 110,
   "outputs": [
    {
     "data": {
      "text/plain": "['accuracy',\n 'adjusted_mutual_info_score',\n 'adjusted_rand_score',\n 'average_precision',\n 'balanced_accuracy',\n 'completeness_score',\n 'explained_variance',\n 'f1',\n 'f1_macro',\n 'f1_micro',\n 'f1_samples',\n 'f1_weighted',\n 'fowlkes_mallows_score',\n 'homogeneity_score',\n 'jaccard',\n 'jaccard_macro',\n 'jaccard_micro',\n 'jaccard_samples',\n 'jaccard_weighted',\n 'matthews_corrcoef',\n 'max_error',\n 'mutual_info_score',\n 'neg_brier_score',\n 'neg_log_loss',\n 'neg_mean_absolute_error',\n 'neg_mean_absolute_percentage_error',\n 'neg_mean_gamma_deviance',\n 'neg_mean_poisson_deviance',\n 'neg_mean_squared_error',\n 'neg_mean_squared_log_error',\n 'neg_median_absolute_error',\n 'neg_root_mean_squared_error',\n 'normalized_mutual_info_score',\n 'precision',\n 'precision_macro',\n 'precision_micro',\n 'precision_samples',\n 'precision_weighted',\n 'r2',\n 'rand_score',\n 'recall',\n 'recall_macro',\n 'recall_micro',\n 'recall_samples',\n 'recall_weighted',\n 'roc_auc',\n 'roc_auc_ovo',\n 'roc_auc_ovo_weighted',\n 'roc_auc_ovr',\n 'roc_auc_ovr_weighted',\n 'top_k_accuracy',\n 'v_measure_score']"
     },
     "execution_count": 110,
     "metadata": {},
     "output_type": "execute_result"
    }
   ],
   "source": [
    "import sklearn\n",
    "sklearn.metrics.get_scorer_names()"
   ],
   "metadata": {
    "collapsed": false,
    "pycharm": {
     "name": "#%%\n"
    }
   }
  },
  {
   "cell_type": "code",
   "execution_count": null,
   "outputs": [],
   "source": [
    "from sklearn.metrics import balanced_accuracy_score\n",
    "\n",
    "X_train, X_test, y_train, y_test = train_test_split(\n",
    "    train.drop(columns=['ID', 'AGE', 'COND', 'N1P2', 'OLD', 'P1_LAT', 'P2_LAT', 'N1_LAT', 'N2_LAT']), train['OLD'],\n",
    "    test_size=0.2, random_state=42)\n",
    "from sklearn import preprocessing\n",
    "\n",
    "le = preprocessing.LabelEncoder()\n",
    "sc = StandardScaler()\n",
    "X_train = sc.fit_transform(X_train)\n",
    "X_test = sc.transform(X_test)\n",
    "le.fit(y_train)\n",
    "y_train = le.transform(y_train)\n",
    "tr = le.transform(y_test)\n",
    "ac, roc_auc, interp_tpr, coef_ev, y_predict_pr = predict_lm([X_train, X_test, y_train, tr])"
   ],
   "metadata": {
    "collapsed": false,
    "pycharm": {
     "name": "#%%\n"
    }
   }
  },
  {
   "cell_type": "code",
   "execution_count": 106,
   "outputs": [
    {
     "data": {
      "text/plain": "array([1, 1, 1, 0, 0, 1, 2, 0, 1, 2, 1, 0, 1, 0, 1, 1, 2, 1, 1, 2, 0, 1,\n       1, 0, 2, 1, 2, 1, 1, 0, 1, 1, 1, 1, 1, 0, 2, 1, 1, 0, 1, 1, 2, 2,\n       0, 0, 2, 0, 0, 1, 1, 2, 0, 1, 2, 2, 1, 1, 2, 1, 2, 1, 2, 1, 2, 1,\n       1, 1, 1, 1, 2, 1, 1, 1, 2, 1, 1, 2, 1, 1, 2, 0, 1, 0, 0, 0, 2, 2,\n       1, 2, 1, 1, 1, 2, 0, 1, 1, 2, 0, 2, 1, 2])"
     },
     "execution_count": 106,
     "metadata": {},
     "output_type": "execute_result"
    }
   ],
   "source": [
    "y_train"
   ],
   "metadata": {
    "collapsed": false,
    "pycharm": {
     "name": "#%%\n"
    }
   }
  },
  {
   "cell_type": "code",
   "execution_count": 101,
   "outputs": [
    {
     "data": {
      "text/plain": "array([[ 6.30205991e-01,  2.07011124e+00,  2.09811492e+00,\n         4.68067470e-01],\n       [-8.14666508e-01, -7.74712906e-01, -6.56933329e-01,\n        -3.03832916e-01],\n       [ 7.04304323e-01,  1.65370096e+00,  1.69184871e+00,\n        -1.14617930e+00],\n       [ 4.14426449e-01,  1.59759152e+00,  1.63282684e+00,\n         1.38485530e+00],\n       [-1.82631768e-01,  2.67541433e-01, -3.37999166e-01,\n        -2.25482573e+00],\n       [ 1.29800974e+00, -4.85744062e-01, -1.01614409e+00,\n        -4.13431571e-01],\n       [-7.25866800e-01, -1.09477308e+00,  3.60747965e-01,\n         5.44932377e-01],\n       [-7.11477315e-02,  1.50541475e+00,  1.84714930e+00,\n         2.57066903e+00],\n       [-7.28201139e-01, -9.55594870e-01, -1.54133336e+00,\n        -1.57782435e+00],\n       [-2.17786516e+00, -2.54926905e+00, -2.63579920e+00,\n         1.71899840e-01],\n       [ 1.18315828e-01,  7.68347781e-01,  5.64638702e-01,\n        -1.19804355e+00],\n       [ 9.12972084e-01,  1.61525205e+00,  4.34983163e-01,\n        -2.79728691e+00],\n       [-3.42477966e-01, -2.68684249e-01,  8.11222542e-01,\n        -2.86719381e-01],\n       [ 6.63034727e-02, -4.12050676e-01, -2.10915857e-01,\n         5.80945039e-01],\n       [-1.13667718e+00,  4.57057270e-01, -3.58598450e-01,\n        -3.33178992e-01],\n       [ 4.20637153e-01,  6.40002960e-01, -2.02831087e-01,\n         5.19854099e-01],\n       [ 2.22251402e-01,  1.03483086e+00,  2.00836905e+00,\n         1.46075419e-02],\n       [-5.99290339e-01, -1.41622520e+00, -9.52324264e-01,\n        -6.54118004e-01],\n       [ 9.51573261e-01,  4.71262100e-01, -2.58136818e-01,\n        -1.60325258e+00],\n       [-6.64513757e-01, -1.10760463e+00, -7.71720041e-01,\n        -1.49641224e-01],\n       [-8.82475104e-01,  9.76528529e-02, -8.45160396e-01,\n         1.65899623e-01],\n       [ 3.02630110e-01, -4.93426163e-01,  7.85180006e-01,\n        -5.25453916e-01],\n       [ 1.41903843e+00,  5.43312899e-01, -2.99987989e-01,\n        -3.66447835e-01],\n       [-3.12407258e-01,  9.84104509e-01,  1.36128748e+00,\n         1.62869541e+00],\n       [-9.75303149e-01, -4.48895049e-01,  4.47953468e-01,\n         9.10276061e-01],\n       [ 8.81357113e-01,  2.13830729e-01,  1.69805016e-01,\n         6.06059218e-01],\n       [-6.42320684e-02,  2.40959879e-02,  4.72815140e-01,\n         9.44115880e-01],\n       [ 3.27729389e-01, -1.78080395e-01, -7.52000625e-01,\n        -1.48127524e+00],\n       [ 8.21713278e-02, -4.79781089e-02,  6.13424693e-01,\n        -1.84962056e-01],\n       [-1.81330692e+00,  1.54450916e-01,  4.87791419e-03,\n         2.26107048e-01],\n       [-1.24662125e+00,  1.39176387e-02,  5.04624315e-01,\n         1.25418730e+00],\n       [-1.89404722e-02,  1.50892211e+00,  8.96215611e-01,\n         1.27418173e+00],\n       [-3.03642585e-01,  1.08334662e+00,  6.57201814e-01,\n         5.75166761e-01],\n       [ 6.23641353e-01,  3.11170860e-01, -4.42391887e-01,\n        -1.07072065e+00],\n       [ 4.18233510e-01, -4.75128522e-01, -9.31133056e-02,\n        -9.34297127e-01],\n       [-1.88892034e+00, -7.94206578e-01, -6.56629659e-01,\n         1.79751001e+00],\n       [-1.56704010e+00, -1.88420382e+00, -1.31619910e+00,\n        -8.42307778e-01],\n       [ 5.80472595e-01, -6.99517365e-01, -7.11700395e-03,\n        -1.01193236e+00],\n       [ 5.74783976e-01, -1.35436442e-01, -1.10450231e+00,\n        -1.28145490e+00],\n       [ 1.26622292e-01, -3.99964353e-01, -1.16292361e+00,\n        -1.11737067e+00],\n       [ 1.32358896e+00, -4.29832762e-01, -1.37570171e+00,\n         3.97070197e-02],\n       [-2.55063306e-01, -4.58731897e-01,  7.38150503e-02,\n        -1.44350179e-01],\n       [-6.48711527e-01, -3.98901179e-01, -3.94721241e-03,\n         1.91237450e+00],\n       [-1.13887122e+00, -1.14597430e+00, -1.79639512e+00,\n        -4.86383826e-01],\n       [-4.83566779e-01,  1.86269267e-01,  4.11104161e-01,\n         7.73001070e-01],\n       [ 3.86558029e-01,  1.42858926e+00,  7.05270228e-01,\n        -1.63828723e+00],\n       [-1.54118080e-01, -1.31694990e+00, -1.45189743e-01,\n        -3.31419848e-01],\n       [ 3.11280413e-01, -1.14581479e-01, -7.79436855e-01,\n         5.55041461e-02],\n       [-9.79041760e-01, -1.33449380e+00, -1.08073722e+00,\n         3.40821064e-01],\n       [ 6.52880258e-01,  3.85353992e-01,  5.29681610e-04,\n         2.45131690e-01],\n       [-2.81799782e-01,  5.76537653e-01,  1.10175761e+00,\n         1.41268619e+00],\n       [-1.74305447e-01, -6.50387758e-01, -3.77853571e-01,\n         9.23412293e-01],\n       [-4.82350693e-01,  5.38512984e-01, -2.92406325e-01,\n        -4.55569999e-01],\n       [-1.18167554e+00, -1.74622281e+00, -9.78810270e-01,\n         3.35546648e-01],\n       [-9.08885377e-01, -1.90327628e+00, -2.15430535e+00,\n         1.42675787e-01],\n       [-9.75303149e-01, -4.48895049e-01,  4.47953468e-01,\n         9.10276061e-01],\n       [-1.33598054e-01, -3.01697676e-01,  7.12939274e-01,\n        -6.65756003e-02],\n       [ 6.45100397e-01,  1.00668510e+00, -3.28948006e-02,\n        -1.37008840e+00],\n       [ 1.70393861e-01, -3.46810446e-01,  3.87883670e-01,\n         1.12951846e+00],\n       [ 1.07602088e+00,  1.80888697e+00,  1.46685570e+00,\n        -8.53249476e-01],\n       [-6.85082062e-01, -2.14444728e+00, -1.92577130e+00,\n        -6.61919244e-01],\n       [ 1.83262599e+00,  8.10703345e-01,  4.11981842e-02,\n        -7.86126783e-01],\n       [-3.02207093e-01, -8.13638760e-01, -1.81741367e-01,\n         1.96563680e-01],\n       [ 4.45352490e-01,  4.94166711e-01,  4.17864233e-01,\n        -2.13237543e-01],\n       [-9.28778951e-01, -1.61039585e+00, -9.62768768e-01,\n         1.98718415e-01],\n       [-1.78669906e+00, -1.21558451e-01, -6.67934812e-01,\n         1.01651264e-01],\n       [ 1.14954083e+00,  5.89538421e-01,  6.52004977e-01,\n         5.38622094e-01],\n       [ 1.05149269e+00,  9.60749270e-01,  5.39382494e-01,\n        -5.93266524e-01],\n       [-4.86296830e-01,  2.73545113e-01, -5.89666471e-01,\n        -6.39606399e-01],\n       [ 9.23202316e-02,  8.81946842e-01,  3.31981372e-01,\n        -8.97307497e-01],\n       [-2.31103833e-01, -1.23803270e+00, -1.53545382e+00,\n        -3.17704045e-02],\n       [-8.48754802e-01, -2.62416241e-02,  9.28752276e-02,\n         1.54782570e-01],\n       [ 1.76133298e+00,  1.71074835e+00,  1.13759396e+00,\n         6.10327511e-01],\n       [ 1.39434290e+00,  2.64917578e-01,  1.33275398e+00,\n        -9.09782457e-02],\n       [-1.08492007e+00, -5.23463197e-01, -9.38562313e-01,\n        -2.03353381e-01],\n       [ 1.21127370e+00,  8.44463301e-01,  1.55631659e+00,\n         5.76450486e-02],\n       [ 2.41005643e+00,  1.54119329e+00,  1.50876142e+00,\n        -4.06828365e-01],\n       [-7.99231647e-03,  8.47815355e-02,  2.09144228e-01,\n         1.16815986e+00],\n       [ 3.55979743e-01,  7.89153835e-01,  3.92775043e-01,\n         1.14493566e-01],\n       [-1.34824760e+00, -7.18417315e-01, -3.31058181e-01,\n         1.23051606e-01],\n       [-1.20957834e-01, -3.04260782e-01,  1.27029412e-01,\n         1.01036454e+00],\n       [-9.47430278e-01, -1.79975817e-01, -4.17224034e-01,\n         8.13357307e-01],\n       [ 2.00763305e+00,  1.13038738e+00,  1.99710503e+00,\n         1.64918482e-01],\n       [ 3.63816214e-01, -3.58718200e-02, -2.33080199e-01,\n         1.40871101e+00],\n       [ 2.61855060e+00,  1.36826800e+00, -4.79659476e-01,\n         3.92013536e-01],\n       [-1.76630619e+00, -6.99971928e-01, -6.72766097e-02,\n         9.65863500e-01],\n       [-7.95023017e-01, -7.32946764e-01, -1.10210372e-01,\n         1.24876881e+00],\n       [ 1.89046594e-02, -1.16646595e+00,  4.44066403e-01,\n         2.22350374e-01],\n       [ 2.10178792e+00,  2.03674411e-01, -1.70001525e+00,\n        -1.76050935e+00],\n       [-6.48711527e-01, -3.98901179e-01, -3.94721241e-03,\n         1.91237450e+00],\n       [-2.55162553e-01,  1.14181106e+00,  6.96850214e-01,\n         6.42917617e-01],\n       [ 9.41945639e-01, -5.64476448e-01, -1.74805505e+00,\n        -2.29542406e+00],\n       [-6.29292755e-01, -1.09012727e+00, -4.70441827e-01,\n         3.75869611e-01],\n       [-1.54290771e+00, -1.81889587e+00, -5.71796282e-01,\n        -1.21044741e-01],\n       [-3.54150439e-01, -1.39434152e-01, -4.43472103e-01,\n         8.22352712e-01],\n       [ 1.94520565e+00,  9.80054137e-01,  8.46361559e-01,\n         1.95592932e-01],\n       [ 2.00004652e+00,  2.66770537e+00,  2.91847386e+00,\n        -2.18845012e-01],\n       [-7.62681671e-01, -5.43308905e-01, -8.23022621e-01,\n         4.72694387e-01],\n       [-6.73663888e-01,  1.32640720e-01, -9.71125980e-01,\n        -2.65084503e+00],\n       [ 7.90528992e-01, -1.47993433e-01,  9.95283691e-01,\n         4.12469241e-01],\n       [ 2.27492361e-01,  9.65844587e-01,  5.14225919e-01,\n        -9.11877498e-01],\n       [ 1.58156600e-01, -5.45970197e-01,  3.89280484e-01,\n         1.18010282e+00]])"
     },
     "execution_count": 101,
     "metadata": {},
     "output_type": "execute_result"
    }
   ],
   "source": [
    "X_train"
   ],
   "metadata": {
    "collapsed": false,
    "pycharm": {
     "name": "#%%\n"
    }
   }
  },
  {
   "cell_type": "code",
   "execution_count": 68,
   "outputs": [
    {
     "data": {
      "text/plain": "array([[1],\n       [1],\n       [1],\n       [2],\n       [2],\n       [1],\n       [0],\n       [0],\n       [2],\n       [0],\n       [1],\n       [0],\n       [0],\n       [1],\n       [1],\n       [2],\n       [1],\n       [2],\n       [2],\n       [1],\n       [1],\n       [1],\n       [2],\n       [0],\n       [0],\n       [1]])"
     },
     "execution_count": 68,
     "metadata": {},
     "output_type": "execute_result"
    }
   ],
   "source": [
    "predictions_t.reshape(-1,1)"
   ],
   "metadata": {
    "collapsed": false,
    "pycharm": {
     "name": "#%%\n"
    }
   }
  },
  {
   "cell_type": "code",
   "execution_count": 69,
   "outputs": [
    {
     "data": {
      "text/plain": "array([1, 1, 0, 1, 2, 1, 1, 2, 1, 0, 2, 0, 1, 0, 2, 2, 1, 1, 2, 1, 0, 0,\n       2, 0, 2, 1])"
     },
     "execution_count": 69,
     "metadata": {},
     "output_type": "execute_result"
    }
   ],
   "source": [
    "tr"
   ],
   "metadata": {
    "collapsed": false,
    "pycharm": {
     "name": "#%%\n"
    }
   }
  },
  {
   "cell_type": "code",
   "execution_count": 59,
   "outputs": [
    {
     "data": {
      "text/plain": "array([[ 6.30205991e-01,  2.07011124e+00,  2.09811492e+00,\n         4.68067470e-01],\n       [-8.14666508e-01, -7.74712906e-01, -6.56933329e-01,\n        -3.03832916e-01],\n       [ 7.04304323e-01,  1.65370096e+00,  1.69184871e+00,\n        -1.14617930e+00],\n       [ 4.14426449e-01,  1.59759152e+00,  1.63282684e+00,\n         1.38485530e+00],\n       [-1.82631768e-01,  2.67541433e-01, -3.37999166e-01,\n        -2.25482573e+00],\n       [ 1.29800974e+00, -4.85744062e-01, -1.01614409e+00,\n        -4.13431571e-01],\n       [-7.25866800e-01, -1.09477308e+00,  3.60747965e-01,\n         5.44932377e-01],\n       [-7.11477315e-02,  1.50541475e+00,  1.84714930e+00,\n         2.57066903e+00],\n       [-7.28201139e-01, -9.55594870e-01, -1.54133336e+00,\n        -1.57782435e+00],\n       [-2.17786516e+00, -2.54926905e+00, -2.63579920e+00,\n         1.71899840e-01],\n       [ 1.18315828e-01,  7.68347781e-01,  5.64638702e-01,\n        -1.19804355e+00],\n       [ 9.12972084e-01,  1.61525205e+00,  4.34983163e-01,\n        -2.79728691e+00],\n       [-3.42477966e-01, -2.68684249e-01,  8.11222542e-01,\n        -2.86719381e-01],\n       [ 6.63034727e-02, -4.12050676e-01, -2.10915857e-01,\n         5.80945039e-01],\n       [-1.13667718e+00,  4.57057270e-01, -3.58598450e-01,\n        -3.33178992e-01],\n       [ 4.20637153e-01,  6.40002960e-01, -2.02831087e-01,\n         5.19854099e-01],\n       [ 2.22251402e-01,  1.03483086e+00,  2.00836905e+00,\n         1.46075419e-02],\n       [-5.99290339e-01, -1.41622520e+00, -9.52324264e-01,\n        -6.54118004e-01],\n       [ 9.51573261e-01,  4.71262100e-01, -2.58136818e-01,\n        -1.60325258e+00],\n       [-6.64513757e-01, -1.10760463e+00, -7.71720041e-01,\n        -1.49641224e-01],\n       [-8.82475104e-01,  9.76528529e-02, -8.45160396e-01,\n         1.65899623e-01],\n       [ 3.02630110e-01, -4.93426163e-01,  7.85180006e-01,\n        -5.25453916e-01],\n       [ 1.41903843e+00,  5.43312899e-01, -2.99987989e-01,\n        -3.66447835e-01],\n       [-3.12407258e-01,  9.84104509e-01,  1.36128748e+00,\n         1.62869541e+00],\n       [-9.75303149e-01, -4.48895049e-01,  4.47953468e-01,\n         9.10276061e-01],\n       [ 8.81357113e-01,  2.13830729e-01,  1.69805016e-01,\n         6.06059218e-01],\n       [-6.42320684e-02,  2.40959879e-02,  4.72815140e-01,\n         9.44115880e-01],\n       [ 3.27729389e-01, -1.78080395e-01, -7.52000625e-01,\n        -1.48127524e+00],\n       [ 8.21713278e-02, -4.79781089e-02,  6.13424693e-01,\n        -1.84962056e-01],\n       [-1.81330692e+00,  1.54450916e-01,  4.87791419e-03,\n         2.26107048e-01],\n       [-1.24662125e+00,  1.39176387e-02,  5.04624315e-01,\n         1.25418730e+00],\n       [-1.89404722e-02,  1.50892211e+00,  8.96215611e-01,\n         1.27418173e+00],\n       [-3.03642585e-01,  1.08334662e+00,  6.57201814e-01,\n         5.75166761e-01],\n       [ 6.23641353e-01,  3.11170860e-01, -4.42391887e-01,\n        -1.07072065e+00],\n       [ 4.18233510e-01, -4.75128522e-01, -9.31133056e-02,\n        -9.34297127e-01],\n       [-1.88892034e+00, -7.94206578e-01, -6.56629659e-01,\n         1.79751001e+00],\n       [-1.56704010e+00, -1.88420382e+00, -1.31619910e+00,\n        -8.42307778e-01],\n       [ 5.80472595e-01, -6.99517365e-01, -7.11700395e-03,\n        -1.01193236e+00],\n       [ 5.74783976e-01, -1.35436442e-01, -1.10450231e+00,\n        -1.28145490e+00],\n       [ 1.26622292e-01, -3.99964353e-01, -1.16292361e+00,\n        -1.11737067e+00],\n       [ 1.32358896e+00, -4.29832762e-01, -1.37570171e+00,\n         3.97070197e-02],\n       [-2.55063306e-01, -4.58731897e-01,  7.38150503e-02,\n        -1.44350179e-01],\n       [-6.48711527e-01, -3.98901179e-01, -3.94721241e-03,\n         1.91237450e+00],\n       [-1.13887122e+00, -1.14597430e+00, -1.79639512e+00,\n        -4.86383826e-01],\n       [-4.83566779e-01,  1.86269267e-01,  4.11104161e-01,\n         7.73001070e-01],\n       [ 3.86558029e-01,  1.42858926e+00,  7.05270228e-01,\n        -1.63828723e+00],\n       [-1.54118080e-01, -1.31694990e+00, -1.45189743e-01,\n        -3.31419848e-01],\n       [ 3.11280413e-01, -1.14581479e-01, -7.79436855e-01,\n         5.55041461e-02],\n       [-9.79041760e-01, -1.33449380e+00, -1.08073722e+00,\n         3.40821064e-01],\n       [ 6.52880258e-01,  3.85353992e-01,  5.29681610e-04,\n         2.45131690e-01],\n       [-2.81799782e-01,  5.76537653e-01,  1.10175761e+00,\n         1.41268619e+00],\n       [-1.74305447e-01, -6.50387758e-01, -3.77853571e-01,\n         9.23412293e-01],\n       [-4.82350693e-01,  5.38512984e-01, -2.92406325e-01,\n        -4.55569999e-01],\n       [-1.18167554e+00, -1.74622281e+00, -9.78810270e-01,\n         3.35546648e-01],\n       [-9.08885377e-01, -1.90327628e+00, -2.15430535e+00,\n         1.42675787e-01],\n       [-9.75303149e-01, -4.48895049e-01,  4.47953468e-01,\n         9.10276061e-01],\n       [-1.33598054e-01, -3.01697676e-01,  7.12939274e-01,\n        -6.65756003e-02],\n       [ 6.45100397e-01,  1.00668510e+00, -3.28948006e-02,\n        -1.37008840e+00],\n       [ 1.70393861e-01, -3.46810446e-01,  3.87883670e-01,\n         1.12951846e+00],\n       [ 1.07602088e+00,  1.80888697e+00,  1.46685570e+00,\n        -8.53249476e-01],\n       [-6.85082062e-01, -2.14444728e+00, -1.92577130e+00,\n        -6.61919244e-01],\n       [ 1.83262599e+00,  8.10703345e-01,  4.11981842e-02,\n        -7.86126783e-01],\n       [-3.02207093e-01, -8.13638760e-01, -1.81741367e-01,\n         1.96563680e-01],\n       [ 4.45352490e-01,  4.94166711e-01,  4.17864233e-01,\n        -2.13237543e-01],\n       [-9.28778951e-01, -1.61039585e+00, -9.62768768e-01,\n         1.98718415e-01],\n       [-1.78669906e+00, -1.21558451e-01, -6.67934812e-01,\n         1.01651264e-01],\n       [ 1.14954083e+00,  5.89538421e-01,  6.52004977e-01,\n         5.38622094e-01],\n       [ 1.05149269e+00,  9.60749270e-01,  5.39382494e-01,\n        -5.93266524e-01],\n       [-4.86296830e-01,  2.73545113e-01, -5.89666471e-01,\n        -6.39606399e-01],\n       [ 9.23202316e-02,  8.81946842e-01,  3.31981372e-01,\n        -8.97307497e-01],\n       [-2.31103833e-01, -1.23803270e+00, -1.53545382e+00,\n        -3.17704045e-02],\n       [-8.48754802e-01, -2.62416241e-02,  9.28752276e-02,\n         1.54782570e-01],\n       [ 1.76133298e+00,  1.71074835e+00,  1.13759396e+00,\n         6.10327511e-01],\n       [ 1.39434290e+00,  2.64917578e-01,  1.33275398e+00,\n        -9.09782457e-02],\n       [-1.08492007e+00, -5.23463197e-01, -9.38562313e-01,\n        -2.03353381e-01],\n       [ 1.21127370e+00,  8.44463301e-01,  1.55631659e+00,\n         5.76450486e-02],\n       [ 2.41005643e+00,  1.54119329e+00,  1.50876142e+00,\n        -4.06828365e-01],\n       [-7.99231647e-03,  8.47815355e-02,  2.09144228e-01,\n         1.16815986e+00],\n       [ 3.55979743e-01,  7.89153835e-01,  3.92775043e-01,\n         1.14493566e-01],\n       [-1.34824760e+00, -7.18417315e-01, -3.31058181e-01,\n         1.23051606e-01],\n       [-1.20957834e-01, -3.04260782e-01,  1.27029412e-01,\n         1.01036454e+00],\n       [-9.47430278e-01, -1.79975817e-01, -4.17224034e-01,\n         8.13357307e-01],\n       [ 2.00763305e+00,  1.13038738e+00,  1.99710503e+00,\n         1.64918482e-01],\n       [ 3.63816214e-01, -3.58718200e-02, -2.33080199e-01,\n         1.40871101e+00],\n       [ 2.61855060e+00,  1.36826800e+00, -4.79659476e-01,\n         3.92013536e-01],\n       [-1.76630619e+00, -6.99971928e-01, -6.72766097e-02,\n         9.65863500e-01],\n       [-7.95023017e-01, -7.32946764e-01, -1.10210372e-01,\n         1.24876881e+00],\n       [ 1.89046594e-02, -1.16646595e+00,  4.44066403e-01,\n         2.22350374e-01],\n       [ 2.10178792e+00,  2.03674411e-01, -1.70001525e+00,\n        -1.76050935e+00],\n       [-6.48711527e-01, -3.98901179e-01, -3.94721241e-03,\n         1.91237450e+00],\n       [-2.55162553e-01,  1.14181106e+00,  6.96850214e-01,\n         6.42917617e-01],\n       [ 9.41945639e-01, -5.64476448e-01, -1.74805505e+00,\n        -2.29542406e+00],\n       [-6.29292755e-01, -1.09012727e+00, -4.70441827e-01,\n         3.75869611e-01],\n       [-1.54290771e+00, -1.81889587e+00, -5.71796282e-01,\n        -1.21044741e-01],\n       [-3.54150439e-01, -1.39434152e-01, -4.43472103e-01,\n         8.22352712e-01],\n       [ 1.94520565e+00,  9.80054137e-01,  8.46361559e-01,\n         1.95592932e-01],\n       [ 2.00004652e+00,  2.66770537e+00,  2.91847386e+00,\n        -2.18845012e-01],\n       [-7.62681671e-01, -5.43308905e-01, -8.23022621e-01,\n         4.72694387e-01],\n       [-6.73663888e-01,  1.32640720e-01, -9.71125980e-01,\n        -2.65084503e+00],\n       [ 7.90528992e-01, -1.47993433e-01,  9.95283691e-01,\n         4.12469241e-01],\n       [ 2.27492361e-01,  9.65844587e-01,  5.14225919e-01,\n        -9.11877498e-01],\n       [ 1.58156600e-01, -5.45970197e-01,  3.89280484e-01,\n         1.18010282e+00]])"
     },
     "execution_count": 59,
     "metadata": {},
     "output_type": "execute_result"
    }
   ],
   "source": [
    "X_train"
   ],
   "metadata": {
    "collapsed": false,
    "pycharm": {
     "name": "#%%\n"
    }
   }
  },
  {
   "cell_type": "code",
   "execution_count": 55,
   "outputs": [
    {
     "data": {
      "text/plain": "(102, 4)"
     },
     "execution_count": 55,
     "metadata": {},
     "output_type": "execute_result"
    }
   ],
   "source": [
    "X_train.shape"
   ],
   "metadata": {
    "collapsed": false,
    "pycharm": {
     "name": "#%%\n"
    }
   }
  },
  {
   "cell_type": "code",
   "execution_count": 37,
   "outputs": [
    {
     "data": {
      "text/plain": "pandas.core.series.Series"
     },
     "execution_count": 37,
     "metadata": {},
     "output_type": "execute_result"
    }
   ],
   "source": [
    "type(y_test)"
   ],
   "metadata": {
    "collapsed": false,
    "pycharm": {
     "name": "#%%\n"
    }
   }
  },
  {
   "cell_type": "code",
   "execution_count": 25,
   "outputs": [
    {
     "data": {
      "text/plain": "array([1, 1, 1, 2, 2, 1, 1, 0, 2, 0, 1, 1, 0, 2, 1, 2, 1, 2, 2, 1, 1, 1,\n       2, 0, 0, 1])"
     },
     "execution_count": 25,
     "metadata": {},
     "output_type": "execute_result"
    }
   ],
   "source": [
    "predictions_t"
   ],
   "metadata": {
    "collapsed": false,
    "pycharm": {
     "name": "#%%\n"
    }
   }
  },
  {
   "cell_type": "code",
   "execution_count": 24,
   "outputs": [
    {
     "data": {
      "text/plain": "55     B\n40     B\n19     A\n31     B\n98     C\n56     B\n69     B\n104    C\n81     B\n26     A\n94     C\n27     A\n64     B\n4      A\n96     C\n113    C\n36     B\n80     B\n125    C\n84     B\n18     A\n10     A\n118    C\n11     A\n105    C\n45     B\nName: OLD, dtype: object"
     },
     "execution_count": 24,
     "metadata": {},
     "output_type": "execute_result"
    }
   ],
   "source": [
    "y_test"
   ],
   "metadata": {
    "collapsed": false,
    "pycharm": {
     "name": "#%%\n"
    }
   }
  },
  {
   "cell_type": "code",
   "execution_count": 4,
   "outputs": [],
   "source": [
    "from lightgbm import LGBMClassifier\n",
    "X_train, X_test, y_train, y_test = train_test_split(train.drop(columns=['ID', 'AGE', 'COND', 'N1P2', 'OLD', 'P1_LAT', 'P2_LAT', 'N1_LAT', 'N2_LAT']), train['OLD'], test_size=0.2, random_state=42)\n",
    "lgb = LGBMClassifier(objective='multiclass')"
   ],
   "metadata": {
    "collapsed": false,
    "pycharm": {
     "name": "#%%\n"
    }
   }
  },
  {
   "cell_type": "code",
   "execution_count": 5,
   "outputs": [],
   "source": [
    "model = lgb"
   ],
   "metadata": {
    "collapsed": false,
    "pycharm": {
     "name": "#%%\n"
    }
   }
  },
  {
   "cell_type": "code",
   "execution_count": null,
   "outputs": [],
   "source": [
    "import lightgbm\n",
    "lightgbm.plot_importance(lgb, max_num_features=50, figsize=(16,9))\n",
    "#plt.savefig('imp_amp.png')"
   ],
   "metadata": {
    "collapsed": false,
    "pycharm": {
     "name": "#%%\n"
    }
   }
  },
  {
   "cell_type": "code",
   "execution_count": null,
   "outputs": [],
   "source": [
    "import pandas\n",
    "from scipy.stats import mstats\n",
    "\n",
    "Data = pandas.read_csv(\"/Users/ilyamikheev/Downloads/ages_td.csv\")"
   ],
   "metadata": {
    "collapsed": false,
    "pycharm": {
     "name": "#%%\n"
    }
   }
  },
  {
   "cell_type": "code",
   "execution_count": 159,
   "outputs": [],
   "source": [
    "import numpy as np\n",
    "c_names = ['P1_AMP', 'N1_AMP', 'P2_AMP', 'N2_AMP', 'P1_LAT', 'P2_LAT', 'N1_LAT', 'N2_LAT']\n",
    "m_v = np.zeros([8,6])\n",
    "res = np.zeros([8,2])\n",
    "for i, name in enumerate(c_names):\n",
    "    Col_1 = Data[Data['OLD']=='A'][name]\n",
    "    Col_2 = Data[Data['OLD']=='B'][name]\n",
    "    Col_3 = Data[Data['OLD']=='C'][name]\n",
    "    m_v[i,0], m_v[i,1], m_v[i,2], m_v[i,3], m_v[i,4], m_v[i,5] = Col_1.median(), Col_2.median(), Col_3.median(), Col_1.std(), Col_2.std(), Col_3.std()\n",
    "    res[i,0], res[i,1] = mstats.kruskalwallis(Col_1.values, Col_2.values, Col_3.values)"
   ],
   "metadata": {
    "collapsed": false,
    "pycharm": {
     "name": "#%%\n"
    }
   }
  },
  {
   "cell_type": "code",
   "execution_count": 160,
   "outputs": [
    {
     "data": {
      "text/plain": "array([[1.92295351e+01, 6.67358984e-05],\n       [3.05387372e+01, 2.33667052e-07],\n       [2.94904342e+00, 2.28888176e-01],\n       [1.94602184e+01, 5.94657988e-05],\n       [2.27627372e+01, 1.14060277e-05],\n       [1.19209087e+01, 2.57874001e-03],\n       [4.46707317e-01, 7.99831932e-01],\n       [2.59838161e+00, 2.72752414e-01]])"
     },
     "execution_count": 160,
     "metadata": {},
     "output_type": "execute_result"
    }
   ],
   "source": [
    "res"
   ],
   "metadata": {
    "collapsed": false,
    "pycharm": {
     "name": "#%%\n"
    }
   }
  },
  {
   "cell_type": "code",
   "execution_count": 226,
   "outputs": [
    {
     "data": {
      "text/plain": "array([[  0.81865667,   1.98849771,   0.8173958 ,   1.62997602,\n          1.63388228,   1.01129615],\n       [  1.87945339,   2.28462016,  -0.33217261,   2.79735027,\n          2.92093582,   2.37199765],\n       [  0.65673358,   1.74607287,   1.27999878,   3.08862113,\n          3.0351811 ,   2.95291114],\n       [ -2.81898136,  -5.70299342,  -2.91507759,   5.20777193,\n          3.31216358,   2.69260754],\n       [ 88.        ,  80.        ,  70.        ,  19.87314265,\n         14.22689404,  18.82475574],\n       [128.        , 133.        , 156.        ,  18.87861532,\n         21.58449965,  17.63429199],\n       [114.        , 113.        , 114.        ,  20.04264633,\n         17.29563208,  13.73582964],\n       [270.        , 262.        , 255.        ,  26.81052466,\n         20.0850313 ,  29.94280262]])"
     },
     "execution_count": 226,
     "metadata": {},
     "output_type": "execute_result"
    }
   ],
   "source": [
    "m_v"
   ],
   "metadata": {
    "collapsed": false,
    "pycharm": {
     "name": "#%%\n"
    }
   }
  },
  {
   "cell_type": "code",
   "execution_count": 146,
   "outputs": [
    {
     "ename": "AttributeError",
     "evalue": "'Pipeline' object has no attribute 'coef_'",
     "output_type": "error",
     "traceback": [
      "\u001B[0;31m---------------------------------------------------------------------------\u001B[0m",
      "\u001B[0;31mAttributeError\u001B[0m                            Traceback (most recent call last)",
      "Input \u001B[0;32mIn [146]\u001B[0m, in \u001B[0;36m<cell line: 1>\u001B[0;34m()\u001B[0m\n\u001B[0;32m----> 1\u001B[0m \u001B[43mmodel\u001B[49m\u001B[38;5;241;43m.\u001B[39;49m\u001B[43mcoef_\u001B[49m\n",
      "\u001B[0;31mAttributeError\u001B[0m: 'Pipeline' object has no attribute 'coef_'"
     ]
    }
   ],
   "source": [
    "model.coef_"
   ],
   "metadata": {
    "collapsed": false,
    "pycharm": {
     "name": "#%%\n"
    }
   }
  },
  {
   "cell_type": "code",
   "execution_count": 174,
   "outputs": [],
   "source": [
    "from yellowbrick.classifier import ROCAUC\n",
    "\n",
    "def plot_ROC_curve(model, xtrain, ytrain, xtest, ytest):\n",
    "\n",
    "    # Creating visualization with the readable labels\n",
    "    visualizer = ROCAUC(model, encoder={0: '4.14-6.42',\n",
    "                                        1: '7.08-11.98',\n",
    "                                        2: '12.04-17.98'})\n",
    "\n",
    "    # Fitting to the training data first then scoring with the test data\n",
    "    visualizer.fit(xtrain, ytrain)\n",
    "    visualizer.score(xtest, ytest)\n",
    "    visualizer.show('/Users/ilyamikheev/Downloads/roc_auc_age.png', dpi=300)\n",
    "    return visualizer"
   ],
   "metadata": {
    "collapsed": false,
    "pycharm": {
     "name": "#%%\n"
    }
   }
  },
  {
   "cell_type": "code",
   "execution_count": 179,
   "outputs": [],
   "source": [
    "from yellowbrick.classifier import PrecisionRecallCurve"
   ],
   "metadata": {
    "collapsed": false,
    "pycharm": {
     "name": "#%%\n"
    }
   }
  },
  {
   "cell_type": "code",
   "execution_count": 182,
   "outputs": [
    {
     "name": "stderr",
     "output_type": "stream",
     "text": [
      "/Users/ilyamikheev/.conda/envs/ihna_project/lib/python3.9/site-packages/yellowbrick/classifier/prcurve.py:254: YellowbrickWarning: micro=True is ignored;specify per_class=False to draw a PR curve after micro-averaging\n",
      "  warnings.warn(\n"
     ]
    },
    {
     "data": {
      "text/plain": "PrecisionRecallCurve(ax=<AxesSubplot:>, cmap='Set1',\n                     encoder={0: '4.14-6.42', 1: '7.08-11.98',\n                              2: '12.04-17.98'},\n                     estimator=OneVsRestClassifier(estimator=Pipeline(steps=[('standardscaler',\n                                                                              StandardScaler()),\n                                                                             ('logisticregressioncv',\n                                                                              LogisticRegressionCV(Cs=[1e-10,\n                                                                                                       1e-09,\n                                                                                                       1e-08,\n                                                                                                       1e-07,\n                                                                                                       1e-06,\n                                                                                                       1e-05,\n                                                                                                       0.0001,\n                                                                                                       0.001,\n                                                                                                       0.01,\n                                                                                                       0.1,\n                                                                                                       1.0,\n                                                                                                       10.0,\n                                                                                                       100.0,\n                                                                                                       1000.0,\n                                                                                                       10000.0,\n                                                                                                       100000.0,\n                                                                                                       1000000.0,\n                                                                                                       10000000.0,\n                                                                                                       100000000.0,\n                                                                                                       1000000000.0],\n                                                                                                   class_weight='balanced',\n                                                                                                   max_iter=10000,\n                                                                                                   multi_class='multinomial',\n                                                                                                   random_state=0,\n                                                                                                   scoring='accuracy',\n                                                                                                   solver='newton-cg',\n                                                                                                   tol=10))])),\n                     iso_f1_values={0.2, 0.4, 0.6, 0.8}, per_class=True)",
      "text/html": "<style>#sk-container-id-2 {color: black;background-color: white;}#sk-container-id-2 pre{padding: 0;}#sk-container-id-2 div.sk-toggleable {background-color: white;}#sk-container-id-2 label.sk-toggleable__label {cursor: pointer;display: block;width: 100%;margin-bottom: 0;padding: 0.3em;box-sizing: border-box;text-align: center;}#sk-container-id-2 label.sk-toggleable__label-arrow:before {content: \"▸\";float: left;margin-right: 0.25em;color: #696969;}#sk-container-id-2 label.sk-toggleable__label-arrow:hover:before {color: black;}#sk-container-id-2 div.sk-estimator:hover label.sk-toggleable__label-arrow:before {color: black;}#sk-container-id-2 div.sk-toggleable__content {max-height: 0;max-width: 0;overflow: hidden;text-align: left;background-color: #f0f8ff;}#sk-container-id-2 div.sk-toggleable__content pre {margin: 0.2em;color: black;border-radius: 0.25em;background-color: #f0f8ff;}#sk-container-id-2 input.sk-toggleable__control:checked~div.sk-toggleable__content {max-height: 200px;max-width: 100%;overflow: auto;}#sk-container-id-2 input.sk-toggleable__control:checked~label.sk-toggleable__label-arrow:before {content: \"▾\";}#sk-container-id-2 div.sk-estimator input.sk-toggleable__control:checked~label.sk-toggleable__label {background-color: #d4ebff;}#sk-container-id-2 div.sk-label input.sk-toggleable__control:checked~label.sk-toggleable__label {background-color: #d4ebff;}#sk-container-id-2 input.sk-hidden--visually {border: 0;clip: rect(1px 1px 1px 1px);clip: rect(1px, 1px, 1px, 1px);height: 1px;margin: -1px;overflow: hidden;padding: 0;position: absolute;width: 1px;}#sk-container-id-2 div.sk-estimator {font-family: monospace;background-color: #f0f8ff;border: 1px dotted black;border-radius: 0.25em;box-sizing: border-box;margin-bottom: 0.5em;}#sk-container-id-2 div.sk-estimator:hover {background-color: #d4ebff;}#sk-container-id-2 div.sk-parallel-item::after {content: \"\";width: 100%;border-bottom: 1px solid gray;flex-grow: 1;}#sk-container-id-2 div.sk-label:hover label.sk-toggleable__label {background-color: #d4ebff;}#sk-container-id-2 div.sk-serial::before {content: \"\";position: absolute;border-left: 1px solid gray;box-sizing: border-box;top: 0;bottom: 0;left: 50%;z-index: 0;}#sk-container-id-2 div.sk-serial {display: flex;flex-direction: column;align-items: center;background-color: white;padding-right: 0.2em;padding-left: 0.2em;position: relative;}#sk-container-id-2 div.sk-item {position: relative;z-index: 1;}#sk-container-id-2 div.sk-parallel {display: flex;align-items: stretch;justify-content: center;background-color: white;position: relative;}#sk-container-id-2 div.sk-item::before, #sk-container-id-2 div.sk-parallel-item::before {content: \"\";position: absolute;border-left: 1px solid gray;box-sizing: border-box;top: 0;bottom: 0;left: 50%;z-index: -1;}#sk-container-id-2 div.sk-parallel-item {display: flex;flex-direction: column;z-index: 1;position: relative;background-color: white;}#sk-container-id-2 div.sk-parallel-item:first-child::after {align-self: flex-end;width: 50%;}#sk-container-id-2 div.sk-parallel-item:last-child::after {align-self: flex-start;width: 50%;}#sk-container-id-2 div.sk-parallel-item:only-child::after {width: 0;}#sk-container-id-2 div.sk-dashed-wrapped {border: 1px dashed gray;margin: 0 0.4em 0.5em 0.4em;box-sizing: border-box;padding-bottom: 0.4em;background-color: white;}#sk-container-id-2 div.sk-label label {font-family: monospace;font-weight: bold;display: inline-block;line-height: 1.2em;}#sk-container-id-2 div.sk-label-container {text-align: center;}#sk-container-id-2 div.sk-container {/* jupyter's `normalize.less` sets `[hidden] { display: none; }` but bootstrap.min.css set `[hidden] { display: none !important; }` so we also need the `!important` here to be able to override the default hidden behavior on the sphinx rendered scikit-learn.org. See: https://github.com/scikit-learn/scikit-learn/issues/21755 */display: inline-block !important;position: relative;}#sk-container-id-2 div.sk-text-repr-fallback {display: none;}</style><div id=\"sk-container-id-2\" class=\"sk-top-container\"><div class=\"sk-text-repr-fallback\"><pre>PrecisionRecallCurve(ax=&lt;AxesSubplot:&gt;, cmap=&#x27;Set1&#x27;,\n                     encoder={0: &#x27;4.14-6.42&#x27;, 1: &#x27;7.08-11.98&#x27;,\n                              2: &#x27;12.04-17.98&#x27;},\n                     estimator=OneVsRestClassifier(estimator=Pipeline(steps=[(&#x27;standardscaler&#x27;,\n                                                                              StandardScaler()),\n                                                                             (&#x27;logisticregressioncv&#x27;,\n                                                                              LogisticRegressionCV(Cs=[1e-10,\n                                                                                                       1e-09,\n                                                                                                       1e-08,\n                                                                                                       1e-07,\n                                                                                                       1e-06,\n                                                                                                       1e-05,\n                                                                                                       0.0001,\n                                                                                                       0.001,\n                                                                                                       0.01,\n                                                                                                       0.1,\n                                                                                                       1.0,\n                                                                                                       10.0,\n                                                                                                       100.0,\n                                                                                                       1000.0,\n                                                                                                       10000.0,\n                                                                                                       100000.0,\n                                                                                                       1000000.0,\n                                                                                                       10000000.0,\n                                                                                                       100000000.0,\n                                                                                                       1000000000.0],\n                                                                                                   class_weight=&#x27;balanced&#x27;,\n                                                                                                   max_iter=10000,\n                                                                                                   multi_class=&#x27;multinomial&#x27;,\n                                                                                                   random_state=0,\n                                                                                                   scoring=&#x27;accuracy&#x27;,\n                                                                                                   solver=&#x27;newton-cg&#x27;,\n                                                                                                   tol=10))])),\n                     iso_f1_values={0.2, 0.4, 0.6, 0.8}, per_class=True)</pre><b>In a Jupyter environment, please rerun this cell to show the HTML representation or trust the notebook. <br />On GitHub, the HTML representation is unable to render, please try loading this page with nbviewer.org.</b></div><div class=\"sk-container\" hidden><div class=\"sk-item sk-dashed-wrapped\"><div class=\"sk-label-container\"><div class=\"sk-label sk-toggleable\"><input class=\"sk-toggleable__control sk-hidden--visually\" id=\"sk-estimator-id-4\" type=\"checkbox\" ><label for=\"sk-estimator-id-4\" class=\"sk-toggleable__label sk-toggleable__label-arrow\">PrecisionRecallCurve</label><div class=\"sk-toggleable__content\"><pre>PrecisionRecallCurve(ax=&lt;AxesSubplot:&gt;, cmap=&#x27;Set1&#x27;,\n                     encoder={0: &#x27;4.14-6.42&#x27;, 1: &#x27;7.08-11.98&#x27;,\n                              2: &#x27;12.04-17.98&#x27;},\n                     estimator=OneVsRestClassifier(estimator=Pipeline(steps=[(&#x27;standardscaler&#x27;,\n                                                                              StandardScaler()),\n                                                                             (&#x27;logisticregressioncv&#x27;,\n                                                                              LogisticRegressionCV(Cs=[1e-10,\n                                                                                                       1e-09,\n                                                                                                       1e-08,\n                                                                                                       1e-07,\n                                                                                                       1e-06,\n                                                                                                       1e-05,\n                                                                                                       0.0001,\n                                                                                                       0.001,\n                                                                                                       0.01,\n                                                                                                       0.1,\n                                                                                                       1.0,\n                                                                                                       10.0,\n                                                                                                       100.0,\n                                                                                                       1000.0,\n                                                                                                       10000.0,\n                                                                                                       100000.0,\n                                                                                                       1000000.0,\n                                                                                                       10000000.0,\n                                                                                                       100000000.0,\n                                                                                                       1000000000.0],\n                                                                                                   class_weight=&#x27;balanced&#x27;,\n                                                                                                   max_iter=10000,\n                                                                                                   multi_class=&#x27;multinomial&#x27;,\n                                                                                                   random_state=0,\n                                                                                                   scoring=&#x27;accuracy&#x27;,\n                                                                                                   solver=&#x27;newton-cg&#x27;,\n                                                                                                   tol=10))])),\n                     iso_f1_values={0.2, 0.4, 0.6, 0.8}, per_class=True)</pre></div></div></div><div class=\"sk-serial\"><div class=\"sk-item\"><div class=\"sk-estimator sk-toggleable\"><input class=\"sk-toggleable__control sk-hidden--visually\" id=\"sk-estimator-id-5\" type=\"checkbox\" ><label for=\"sk-estimator-id-5\" class=\"sk-toggleable__label sk-toggleable__label-arrow\">StandardScaler</label><div class=\"sk-toggleable__content\"><pre>StandardScaler()</pre></div></div></div><div class=\"sk-item\"><div class=\"sk-estimator sk-toggleable\"><input class=\"sk-toggleable__control sk-hidden--visually\" id=\"sk-estimator-id-6\" type=\"checkbox\" ><label for=\"sk-estimator-id-6\" class=\"sk-toggleable__label sk-toggleable__label-arrow\">LogisticRegressionCV</label><div class=\"sk-toggleable__content\"><pre>LogisticRegressionCV(Cs=[1e-10, 1e-09, 1e-08, 1e-07, 1e-06, 1e-05, 0.0001,\n                         0.001, 0.01, 0.1, 1.0, 10.0, 100.0, 1000.0, 10000.0,\n                         100000.0, 1000000.0, 10000000.0, 100000000.0,\n                         1000000000.0],\n                     class_weight=&#x27;balanced&#x27;, max_iter=10000,\n                     multi_class=&#x27;multinomial&#x27;, random_state=0,\n                     scoring=&#x27;accuracy&#x27;, solver=&#x27;newton-cg&#x27;, tol=10)</pre></div></div></div></div></div></div></div>"
     },
     "execution_count": 182,
     "metadata": {},
     "output_type": "execute_result"
    },
    {
     "data": {
      "text/plain": "<Figure size 432x288 with 1 Axes>",
      "image/png": "[encoded data removed]"
     },
     "metadata": {
      "needs_background": "light"
     },
     "output_type": "display_data"
    }
   ],
   "source": [
    "viz = PrecisionRecallCurve(\n",
    "    model,\n",
    "    per_class=True,\n",
    "    cmap=\"Set1\",\n",
    "    encoder={0: '4.14-6.42',\n",
    "             1: '7.08-11.98',\n",
    "            2: '12.04-17.98'})\n",
    "viz.fit(X_train, y_train)"
   ],
   "metadata": {
    "collapsed": false,
    "pycharm": {
     "name": "#%%\n"
    }
   }
  },
  {
   "cell_type": "code",
   "execution_count": 18,
   "outputs": [
    {
     "data": {
      "text/plain": "<AxesSubplot:title={'center':'ROC Curves for LGBMClassifier'}, xlabel='False Positive Rate', ylabel='True Positive Rate'>"
     },
     "execution_count": 18,
     "metadata": {},
     "output_type": "execute_result"
    },
    {
     "data": {
      "text/plain": "<Figure size 432x288 with 0 Axes>"
     },
     "metadata": {},
     "output_type": "display_data"
    }
   ],
   "source": [
    "fig."
   ],
   "metadata": {
    "collapsed": false,
    "pycharm": {
     "name": "#%%\n"
    }
   }
  },
  {
   "cell_type": "code",
   "execution_count": 8,
   "outputs": [
    {
     "data": {
      "text/plain": "(102, 4)"
     },
     "execution_count": 8,
     "metadata": {},
     "output_type": "execute_result"
    }
   ],
   "source": [
    "X_train.shape"
   ],
   "metadata": {
    "collapsed": false,
    "pycharm": {
     "name": "#%%\n"
    }
   }
  },
  {
   "cell_type": "code",
   "execution_count": null,
   "outputs": [],
   "source": [
    "X_test"
   ],
   "metadata": {
    "collapsed": false,
    "pycharm": {
     "name": "#%%\n"
    }
   }
  },
  {
   "cell_type": "code",
   "execution_count": 178,
   "outputs": [
    {
     "name": "stderr",
     "output_type": "stream",
     "text": [
      "/Users/ilyamikheev/.conda/envs/ihna_project/lib/python3.9/site-packages/sklearn/base.py:450: UserWarning: X does not have valid feature names, but StandardScaler was fitted with feature names\n",
      "  warnings.warn(\n"
     ]
    },
    {
     "data": {
      "text/plain": "<Figure size 432x288 with 1 Axes>",
      "image/png": "[encoded data removed]"
     },
     "metadata": {
      "needs_background": "light"
     },
     "output_type": "display_data"
    }
   ],
   "source": [
    "fig = plot_ROC_curve(model, X_train,  y_train, X_test, y_test)"
   ],
   "metadata": {
    "collapsed": false,
    "pycharm": {
     "name": "#%%\n"
    }
   }
  },
  {
   "cell_type": "markdown",
   "source": [],
   "metadata": {
    "collapsed": false
   }
  },
  {
   "cell_type": "code",
   "execution_count": 15,
   "outputs": [
    {
     "ename": "AttributeError",
     "evalue": "'LGBMClassifier' object has no attribute 'savefig'",
     "output_type": "error",
     "traceback": [
      "\u001B[0;31m---------------------------------------------------------------------------\u001B[0m",
      "\u001B[0;31mAttributeError\u001B[0m                            Traceback (most recent call last)",
      "Input \u001B[0;32mIn [15]\u001B[0m, in \u001B[0;36m<cell line: 1>\u001B[0;34m()\u001B[0m\n\u001B[0;32m----> 1\u001B[0m \u001B[43mfig\u001B[49m\u001B[38;5;241;43m.\u001B[39;49m\u001B[43msavefig\u001B[49m(os\u001B[38;5;241m.\u001B[39mpath\u001B[38;5;241m.\u001B[39mjoin(\u001B[38;5;124m'\u001B[39m\u001B[38;5;124m/Users/ilyamikheev/Downloads/\u001B[39m\u001B[38;5;124m'\u001B[39m, \u001B[38;5;124m'\u001B[39m\u001B[38;5;124mroc_auc_age.png\u001B[39m\u001B[38;5;124m'\u001B[39m), \u001B[38;5;28mformat\u001B[39m\u001B[38;5;241m=\u001B[39m\u001B[38;5;124m'\u001B[39m\u001B[38;5;124mpng\u001B[39m\u001B[38;5;124m'\u001B[39m, bbox_inches\u001B[38;5;241m=\u001B[39m\u001B[38;5;124m'\u001B[39m\u001B[38;5;124mtight\u001B[39m\u001B[38;5;124m'\u001B[39m, dpi\u001B[38;5;241m=\u001B[39m\u001B[38;5;241m600\u001B[39m)\n",
      "File \u001B[0;32m~/.conda/envs/ihna_project/lib/python3.9/site-packages/yellowbrick/utils/wrapper.py:42\u001B[0m, in \u001B[0;36mWrapper.__getattr__\u001B[0;34m(self, attr)\u001B[0m\n\u001B[1;32m     40\u001B[0m \u001B[38;5;28;01mdef\u001B[39;00m \u001B[38;5;21m__getattr__\u001B[39m(\u001B[38;5;28mself\u001B[39m, attr):\n\u001B[1;32m     41\u001B[0m     \u001B[38;5;66;03m# proxy to the wrapped object\u001B[39;00m\n\u001B[0;32m---> 42\u001B[0m     \u001B[38;5;28;01mreturn\u001B[39;00m \u001B[38;5;28;43mgetattr\u001B[39;49m\u001B[43m(\u001B[49m\u001B[38;5;28;43mself\u001B[39;49m\u001B[38;5;241;43m.\u001B[39;49m\u001B[43m_wrapped\u001B[49m\u001B[43m,\u001B[49m\u001B[43m \u001B[49m\u001B[43mattr\u001B[49m\u001B[43m)\u001B[49m\n",
      "\u001B[0;31mAttributeError\u001B[0m: 'LGBMClassifier' object has no attribute 'savefig'"
     ]
    }
   ],
   "source": [
    "fig.savefig(os.path.join('/Users/ilyamikheev/Downloads/', 'roc_auc_age.png'), format='png', bbox_inches='tight', dpi=600)"
   ],
   "metadata": {
    "collapsed": false,
    "pycharm": {
     "name": "#%%\n"
    }
   }
  },
  {
   "cell_type": "code",
   "execution_count": null,
   "outputs": [],
   "source": [
    "import os\n",
    "df_subj = pd.DataFrame(res, columns=['H','p_value'], index=c_names)\n",
    "writer = pd.ExcelWriter(os.path.join('/Users/ilyamikheev/Downloads', 'stat_amp_lat.xlsx'))\n",
    "df_subj.to_excel(writer)\n",
    "writer.save()"
   ],
   "metadata": {
    "collapsed": false,
    "pycharm": {
     "name": "#%%\n"
    }
   }
  },
  {
   "cell_type": "code",
   "execution_count": null,
   "outputs": [],
   "source": [
    "import os\n",
    "df_subj = pd.DataFrame(m_v, columns=['A_median','B_median','C_median','A_std','B_std','C_std'], index=c_names)\n",
    "writer = pd.ExcelWriter(os.path.join('/Users/ilyamikheev/Downloads', 'median_std_amp_lat.xlsx'))\n",
    "df_subj.to_excel(writer)\n",
    "writer.save()"
   ],
   "metadata": {
    "collapsed": false,
    "pycharm": {
     "name": "#%%\n"
    }
   }
  },
  {
   "cell_type": "code",
   "execution_count": null,
   "outputs": [],
   "source": [],
   "metadata": {
    "collapsed": false,
    "pycharm": {
     "name": "#%%\n"
    }
   }
  }
 ],
 "metadata": {
  "kernelspec": {
   "display_name": "Python 3",
   "language": "python",
   "name": "python3"
  },
  "language_info": {
   "codemirror_mode": {
    "name": "ipython",
    "version": 2
   },
   "file_extension": ".py",
   "mimetype": "text/x-python",
   "name": "python",
   "nbconvert_exporter": "python",
   "pygments_lexer": "ipython2",
   "version": "2.7.6"
  }
 },
 "nbformat": 4,
 "nbformat_minor": 0
}
