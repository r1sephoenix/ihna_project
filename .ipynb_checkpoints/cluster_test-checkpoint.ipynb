{
 "cells": [
  {
   "cell_type": "code",
   "execution_count": null,
   "metadata": {},
   "outputs": [],
   "source": [
    "#imports\n",
    "import mne\n",
    "import glob\n",
    "import os\n",
    "import re\n",
    "import numpy as np\n",
    "from itertools import chain\n",
    "from matplotlib import pyplot as plt\n",
    "from mne.time_frequency import psd_multitaper\n",
    "from mne.decoding import LinearModel\n",
    "from mne.decoding import get_coef\n",
    "from sklearn.pipeline import make_pipeline\n",
    "from sklearn.preprocessing import StandardScaler\n",
    "from sklearn.model_selection import train_test_split\n",
    "from sklearn.linear_model import LogisticRegressionCV\n",
    "from sklearn.metrics import confusion_matrix\n",
    "from sklearn.metrics import accuracy_score \n",
    "from sklearn.metrics import roc_auc_score\n",
    "from sklearn.metrics import confusion_matrix\n",
    "import pandas as pd"
   ]
  },
  {
   "cell_type": "code",
   "execution_count": null,
   "metadata": {},
   "outputs": [],
   "source": [
    "# path to data \n",
    "path = '/Users/ilamiheev/Downloads/eeg_data'\n",
    "# create folders for results\n",
    "path_res = '/Users/ilamiheev/Downloads/results_ihna'\n",
    "path_subj = os.path.join(path_res, 'subjects_classification')\n",
    "path_subj_topo = os.path.join(path_subj, 'subjects_topo')\n",
    "path_unite_subj = os.path.join(pa th_res, 'unite_subjects')\n",
    "path_unite_topo =  os.path.join(path_unite_subj, 'unite_topo')\n",
    "path_group = os.path.join(path_res, 'group_classification')\n",
    "path_group_topo =  os.path.join(path_group, 'group_topo')\n",
    "for pathn in [path_res,path_subj,path_subj_topo,path_unite_subj,path_unite_topo,path_group,path_group_topo]:\n",
    "    os.makedirs(pathn)"
   ]
  },
  {
   "cell_type": "code",
   "execution_count": null,
   "metadata": {},
   "outputs": [],
   "source": [
    "mat = ['311','312','314','315','316','317','326','327','328','330','334','335']  \n",
    "not_mat = [x for x in indexes if x not in mat]\n",
    "index_mat, index_not_mat = [indexes.index(i) for i in mat], [indexes.index(i) for i in not_mat]"
   ]
  },
  {
   "cell_type": "code",
   "execution_count": null,
   "metadata": {},
   "outputs": [],
   "source": [
    "res_ar = np.zeros_like(a1[0,2,...])\n",
    "a2 = a1[:,2,...]\n",
    "mr_ar \n",
    "ll = []\n",
    "for i in range(7):\n",
    "    a3 = a2[:,i,:]\n",
    "    b1 = a3[index_mat]\n",
    "    b2 = a3[index_not_mat]\n",
    "    T_obs, clusters, cluster_p_values, H0 = \\\n",
    "    permutation_cluster_test([b1, b2], threshold = 8, out_type='mask',\n",
    "                             n_permutations=1000)\n",
    "    T_obs_plot = np.nan * np.ones_like(T_obs)\n",
    "    for c, p_val in zip(clusters, cluster_p_values):\n",
    "        if p_val <= 0.05:\n",
    "            T_obs_plot[c] = T_obs[c]\n",
    "    np.nan_to_num(T_obs_plot, copy=False)\n",
    "    if np.count_nonzero(T_obs_plot) > 0:\n",
    "        ll.append(i)\n",
    "        res_ar[i,:] = T_obs_plot\n",
    "mr_ar = res_ar>0"
   ]
  },
  {
   "cell_type": "code",
   "execution_count": null,
   "metadata": {},
   "outputs": [],
   "source": [
    "def plot_topo(ar, info):\n",
    "    #vmin = np.amin(ar)\n",
    "    vmin = -np.amax(ar)\n",
    "    vmax = np.amax(ar)\n",
    "    fig, axe s = plt.subplots(nrows=1, ncols=len(ll), figsize=(30, 20))\n",
    "    ss = 0\n",
    "    for i, key in enumerate(list(fr_bands.keys())):\n",
    "        if i in ll:\n",
    "            evoked = mne.EvokedArray(ar[i,:].reshape(-1,1),\n",
    "                             info, tmin=0.)\n",
    "            a = evoked.plot_topomap(axes=axes[ss],time_format=None, colorbar = False,  times=[0], mask = mr_ar[i,:].reshape(-1,1), size = 5, show_names = True, \n",
    "                                 show = False)\n",
    "            axes[ss].set_title(label = '{}-{} Hz'.format(*fr_bands[key]), fontdict = {'fontsize': 40, 'fontweight' : 'semibold'})\n",
    "            mne.viz.tight_layout()\n",
    "            ss+=1\n",
    "    m = cm.ScalarMappable(cmap='Reds')\n",
    "    m.set_array([vmin, vmax])\n",
    "    cax = fig.add_axes([1, 0.3, 0.03, 0.38])\n",
    "    cb = fig.colorbar(m, cax)\n",
    "    cb.ax.tick_params(labelsize=40)\n",
    "    #plt.figtext(0.5, 1.0, '{}'.format('Sagnificant clusters'), va=\"center\", ha=\"center\", size=60, fontweight = 'semibold')\n",
    "    return fig"
   ]
  },
  {
   "cell_type": "code",
   "execution_count": null,
   "metadata": {},
   "outputs": [],
   "source": [
    "%matplotlib inline\n",
    "fig = plot_topo(res_ar, info)\n",
    "#fig = plot_topo(T_obs_plot, info)\n",
    "fig.savefig(os.path.join(path_subj_topo, 'cluster_bands_244.png'), format='png', bbox_inches='tight', dpi=600)\n",
    "#plt.save(os.path.join(path_subj_topo, 'cluster_test_244_fin_3.png'), format='png', dpi=600)\n",
    "plt.close(fig)"
   ]
  }
 ],
 "metadata": {
  "kernelspec": {
   "display_name": "Python 3",
   "language": "python",
   "name": "python3"
  },
  "language_info": {
   "codemirror_mode": {
    "name": "ipython",
    "version": 3
   },
   "file_extension": ".py",
   "mimetype": "text/x-python",
   "name": "python",
   "nbconvert_exporter": "python",
   "pygments_lexer": "ipython3",
   "version": "3.8.8"
  }
 },
 "nbformat": 4,
 "nbformat_minor": 4
}
