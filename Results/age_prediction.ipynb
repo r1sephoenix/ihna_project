{
 "cells": [
  {
   "cell_type": "code",
   "execution_count": 12,
   "metadata": {
    "collapsed": true
   },
   "outputs": [
    {
     "name": "stdout",
     "output_type": "stream",
     "text": [
      "['sub-010002', 'sub-010004', 'sub-010006', 'sub-010007', 'sub-010026', 'sub-010037', 'sub-010039', 'sub-010041', 'sub-010043', 'sub-010044', 'sub-010045', 'sub-010046', 'sub-010047', 'sub-010048', 'sub-010049', 'sub-010050', 'sub-010051', 'sub-010059', 'sub-010066', 'sub-010085', 'sub-010086', 'sub-010087', 'sub-010088', 'sub-010089', 'sub-010090', 'sub-010091', 'sub-010092', 'sub-010093', 'sub-010104', 'sub-010146', 'sub-010148', 'sub-010152', 'sub-010199', 'sub-010219', 'sub-010222', 'sub-010223', 'sub-010234', 'sub-010235', 'sub-010239', 'sub-010242', 'sub-010243', 'sub-010244', 'sub-010245', 'sub-010246', 'sub-010247', 'sub-010248', 'sub-010249', 'sub-010250', 'sub-010251', 'sub-010254', 'sub-010257', 'sub-010258', 'sub-010267', 'sub-010268', 'sub-010272', 'sub-010276', 'sub-010277', 'sub-010278', 'sub-010280', 'sub-010281', 'sub-010282', 'sub-010283', 'sub-010284', 'sub-010285', 'sub-010286', 'sub-010287', 'sub-010288', 'sub-010289', 'sub-010290', 'sub-010291']\n",
      "HTTP Error 404: Not Found\n",
      "HTTP Error 404: Not Found\n",
      "HTTP Error 404: Not Found\n",
      "HTTP Error 404: Not Found\n",
      "HTTP Error 404: Not Found\n",
      "HTTP Error 404: Not Found\n",
      "HTTP Error 404: Not Found\n",
      "HTTP Error 404: Not Found\n",
      "HTTP Error 404: Not Found\n"
     ]
    }
   ],
   "source": [
    "import os\n",
    "import pathlib\n",
    "import urllib.request\n",
    "import pandas as pd\n",
    "\n",
    "\n",
    "DEBUG = False\n",
    "url_lemon = 'https://ftp.gwdg.de/pub/misc/MPI-Leipzig_Mind-Brain-Body-LEMON/EEG_MPILMBB_LEMON/EEG_Raw_BIDS_ID/'\n",
    "\n",
    "lemon_info = pd.read_csv(\n",
    "  '/Users/ilyamikheev/Downloads/participants_new_id.csv', sep=';')\n",
    "\n",
    "data_path = pathlib.Path(\"/Users/ilyamikheev/Downloads/eeg_data\")\n",
    "\n",
    "if not data_path.exists():\n",
    "    os.makedirs(data_path)\n",
    "\n",
    "subjects = sorted(lemon_info.ID)\n",
    "\n",
    "if DEBUG:\n",
    "    subjects = subjects[:1]\n",
    "\n",
    "extensions = [\"eeg\", \"vhdr\", \"vmrk\"]\n",
    "good_subjects = list()\n",
    "\n",
    "for sub in subjects:\n",
    "    for ext in extensions:\n",
    "        sub_url = f\"{sub}/RSEEG/{sub}.{ext}\"\n",
    "        url = f\"{url_lemon}/{sub_url}\"\n",
    "        out_path = data_path / sub / \"RSEEG\"\n",
    "        if not out_path.exists():\n",
    "            os.makedirs(out_path)\n",
    "        out_name = out_path / f\"{sub}.{ext}\"\n",
    "        try:\n",
    "            urllib.request.urlretrieve(url, out_name)\n",
    "            good_subjects.append(sub)\n",
    "        except Exception as err:\n",
    "            print(err)\n",
    "\n",
    "good_subs_df = pd.DataFrame(dict(subject=list(set(good_subjects))))\n",
    "good_subs_df.to_csv('good_subjects.csv')"
   ]
  },
  {
   "cell_type": "code",
   "execution_count": null,
   "outputs": [],
   "source": [],
   "metadata": {
    "collapsed": false
   }
  }
 ],
 "metadata": {
  "kernelspec": {
   "display_name": "Python 3",
   "language": "python",
   "name": "python3"
  },
  "language_info": {
   "codemirror_mode": {
    "name": "ipython",
    "version": 2
   },
   "file_extension": ".py",
   "mimetype": "text/x-python",
   "name": "python",
   "nbconvert_exporter": "python",
   "pygments_lexer": "ipython2",
   "version": "2.7.6"
  }
 },
 "nbformat": 4,
 "nbformat_minor": 0
}
